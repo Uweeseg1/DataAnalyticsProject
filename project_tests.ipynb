{
 "cells": [
  {
   "cell_type": "code",
   "execution_count": 1,
   "id": "4271dd90",
   "metadata": {},
   "outputs": [],
   "source": [
    "import numpy as np\n",
    "import pandas as pd \n",
    "import os"
   ]
  },
  {
   "cell_type": "code",
   "execution_count": 2,
   "id": "3d20bb2f",
   "metadata": {},
   "outputs": [],
   "source": [
    "# DOWNLOAD DATA\n",
    "os.chdir(\"/Users/maishamos/Documents/Seconed.year/ב׳/Peer Lending project/data\")\n",
    "Q1_19 = pd.read_csv(\"Q1_2019.csv\",low_memory=False)\n",
    "Q2_19 = pd.read_csv(\"Q2_2019.csv\",low_memory=False)\n",
    "Q3_19 = pd.read_csv(\"Q3_2019.csv\",low_memory=False)\n",
    "Q4_19 = pd.read_csv(\"Q4_2019.csv\",low_memory=False)"
   ]
  },
  {
   "cell_type": "code",
   "execution_count": 3,
   "id": "855a1a38",
   "metadata": {},
   "outputs": [],
   "source": [
    "# DOWNLOAD DATA\n",
    "os.chdir(\"/Users/maishamos/Documents/Seconed.year/ב׳/Peer Lending project/data\")\n",
    "Q1_18 = pd.read_csv(\"Q1_2018.csv\",low_memory=False)\n",
    "Q2_18 = pd.read_csv(\"Q2_2018.csv\",low_memory=False)\n",
    "Q3_18 = pd.read_csv(\"Q3_2018.csv\",low_memory=False)\n",
    "Q4_18 = pd.read_csv(\"Q4_2018.csv\",low_memory=False)"
   ]
  },
  {
   "cell_type": "code",
   "execution_count": 4,
   "id": "77189c70",
   "metadata": {},
   "outputs": [],
   "source": [
    "# create a QUARTER column maybe it has some good information\n",
    "Q1_18[\"Qrtr\"] = 1\n",
    "Q2_18[\"Qrtr\"] = 2\n",
    "Q3_18[\"Qrtr\"] = 3\n",
    "Q4_18[\"Qrtr\"] = 4\n",
    "Q1_19[\"Qrtr\"] = 1\n",
    "Q2_19[\"Qrtr\"] = 2\n",
    "Q3_19[\"Qrtr\"] = 3\n",
    "Q4_19[\"Qrtr\"] = 4"
   ]
  },
  {
   "cell_type": "code",
   "execution_count": 5,
   "id": "11b8a92c",
   "metadata": {},
   "outputs": [],
   "source": [
    "# making 2 big Date Frames\n",
    "all_year_19 = pd.concat([Q1_19,Q2_19,Q3_19,Q4_19])\n",
    "all_year_18 = pd.concat([Q1_18,Q2_18,Q3_18,Q4_18])"
   ]
  },
  {
   "cell_type": "code",
   "execution_count": 6,
   "id": "e4f1b12d",
   "metadata": {},
   "outputs": [
    {
     "name": "stdout",
     "output_type": "stream",
     "text": [
      "Columns missing in one of the dataframes:\n",
      "Column 'disbursement_method' is missing in 'all_year_19'\n"
     ]
    }
   ],
   "source": [
    "# Get a list of columns in each dataframe\n",
    "cols_18 = set(all_year_18.columns)\n",
    "cols_19 = set(all_year_19.columns)\n",
    "\n",
    "# Find columns that are in one dataframe but not the other\n",
    "missing_cols = [col for col in cols_18.symmetric_difference(cols_19)]\n",
    "\n",
    "# Print the missing columns, if any\n",
    "if missing_cols:\n",
    "    print(\"Columns missing in one of the dataframes:\")\n",
    "    for col in missing_cols:\n",
    "        if col in cols_18:\n",
    "            print(f\"Column '{col}' is missing in 'all_year_19'\")\n",
    "        else:\n",
    "            print(f\"Column '{col}' is missing in 'all_year_18'\")\n",
    "else:\n",
    "    print(\"All columns match between the two dataframes.\")"
   ]
  },
  {
   "cell_type": "code",
   "execution_count": 7,
   "id": "32bbe708",
   "metadata": {},
   "outputs": [],
   "source": [
    "# !!! check with ERAN if 'disbursement_method' is not a data leakage to combine it back to the 2019 / use 2018 !!!\n",
    "all_year_18 = all_year_18.drop(columns='disbursement_method')\n"
   ]
  },
  {
   "cell_type": "code",
   "execution_count": 12,
   "id": "0207f176",
   "metadata": {},
   "outputs": [],
   "source": [
    "all_year_18 = all_year_18.sort_values(by=\"id\").reset_index(drop=True)\n",
    "all_year_19 = all_year_19.sort_values(by=\"id\").reset_index(drop=True)"
   ]
  },
  {
   "cell_type": "code",
   "execution_count": 13,
   "id": "beba062a",
   "metadata": {},
   "outputs": [
    {
     "name": "stderr",
     "output_type": "stream",
     "text": [
      "/var/folders/zm/1616j84n2sqfb8203b6sjh4w0000gn/T/ipykernel_48049/725125927.py:1: UserWarning: Boolean Series key will be reindexed to match DataFrame index.\n",
      "  all_year_18 = all_year_18[all_year_19.term == \" 36 months\" ]\n",
      "/var/folders/zm/1616j84n2sqfb8203b6sjh4w0000gn/T/ipykernel_48049/725125927.py:2: UserWarning: Boolean Series key will be reindexed to match DataFrame index.\n",
      "  all_year_18 =  all_year_18[all_year_19.loan_status.isin([\"Default\",\"Charged Off\",\"Fully Paid\"])]\n"
     ]
    }
   ],
   "source": [
    "all_year_18 = all_year_18[all_year_19.term == \" 36 months\" ]\n",
    "all_year_18 =  all_year_18[all_year_19.loan_status.isin([\"Default\",\"Charged Off\",\"Fully Paid\"])]\n",
    "all_year_19 = all_year_19[all_year_19.term == \" 36 months\" ]\n",
    "all_year_19 =  all_year_19[all_year_19.loan_status.isin([\"Default\",\"Charged Off\",\"Fully Paid\"])]"
   ]
  },
  {
   "cell_type": "code",
   "execution_count": 14,
   "id": "aa2aea29",
   "metadata": {
    "scrolled": true
   },
   "outputs": [
    {
     "data": {
      "text/plain": [
       "id                            0\n",
       "member_id                215890\n",
       "loan_amnt                     0\n",
       "funded_amnt                   0\n",
       "funded_amnt_inv               0\n",
       "                          ...  \n",
       "settlement_amount        213568\n",
       "settlement_percentage    213568\n",
       "settlement_term          213568\n",
       "payment_lifetime              0\n",
       "Qrtr                          0\n",
       "Length: 152, dtype: int64"
      ]
     },
     "execution_count": 14,
     "metadata": {},
     "output_type": "execute_result"
    }
   ],
   "source": [
    "all_year_18.isna().sum() "
   ]
  },
  {
   "cell_type": "code",
   "execution_count": 23,
   "id": "f29c7d44",
   "metadata": {},
   "outputs": [
    {
     "data": {
      "text/plain": [
       "Index(['member_id', 'desc', 'annual_inc_joint', 'dti_joint',\n",
       "       'verification_status_joint', 'revol_bal_joint',\n",
       "       'sec_app_fico_range_low', 'sec_app_fico_range_high',\n",
       "       'sec_app_earliest_cr_line', 'sec_app_inq_last_6mths',\n",
       "       'sec_app_mort_acc', 'sec_app_open_acc', 'sec_app_revol_util',\n",
       "       'sec_app_open_act_il', 'sec_app_num_rev_accts',\n",
       "       'sec_app_chargeoff_within_12_mths',\n",
       "       'sec_app_collections_12_mths_ex_med',\n",
       "       'sec_app_mths_since_last_major_derog', 'hardship_type',\n",
       "       'hardship_reason', 'hardship_status', 'deferral_term',\n",
       "       'hardship_amount', 'hardship_start_date', 'hardship_end_date',\n",
       "       'payment_plan_start_date', 'hardship_length', 'hardship_dpd',\n",
       "       'hardship_loan_status', 'orig_projected_additional_accrued_interest',\n",
       "       'hardship_payoff_balance_amount', 'hardship_last_payment_amount',\n",
       "       'debt_settlement_flag_date', 'settlement_status', 'settlement_date',\n",
       "       'settlement_amount', 'settlement_percentage', 'settlement_term'],\n",
       "      dtype='object')"
      ]
     },
     "execution_count": 23,
     "metadata": {},
     "output_type": "execute_result"
    }
   ],
   "source": [
    "all_year_18.columns[all_year_18.isna().sum() >= len(all_year_18)*0.95]"
   ]
  },
  {
   "cell_type": "code",
   "execution_count": 20,
   "id": "80b3f79d",
   "metadata": {
    "scrolled": true
   },
   "outputs": [],
   "source": [
    "x = all_year_18.columns[all_year_18.isna().sum() >= len(all_year_18)*0.95]"
   ]
  },
  {
   "cell_type": "code",
   "execution_count": 21,
   "id": "e56cc220",
   "metadata": {},
   "outputs": [],
   "source": [
    "y = all_year_19.columns[all_year_19.isna().sum() >= len(all_year_19)*0.95]"
   ]
  },
  {
   "cell_type": "code",
   "execution_count": 22,
   "id": "920396e6",
   "metadata": {},
   "outputs": [
    {
     "data": {
      "text/plain": [
       "array([ True,  True,  True,  True,  True,  True,  True,  True,  True,\n",
       "        True,  True,  True,  True,  True,  True,  True,  True,  True,\n",
       "        True,  True,  True,  True,  True,  True,  True,  True,  True,\n",
       "        True,  True,  True,  True,  True,  True,  True,  True,  True,\n",
       "        True,  True])"
      ]
     },
     "execution_count": 22,
     "metadata": {},
     "output_type": "execute_result"
    }
   ],
   "source": [
    "x == y"
   ]
  },
  {
   "cell_type": "code",
   "execution_count": 14,
   "id": "dcfcd912",
   "metadata": {},
   "outputs": [
    {
     "data": {
      "text/plain": [
       "((434407, 152), (434407, 152))"
      ]
     },
     "execution_count": 14,
     "metadata": {},
     "output_type": "execute_result"
    }
   ],
   "source": [
    "all_year_18.shape,all_year_19.shape"
   ]
  },
  {
   "cell_type": "code",
   "execution_count": 15,
   "id": "ae3882ea",
   "metadata": {},
   "outputs": [
    {
     "data": {
      "text/plain": [
       "0"
      ]
     },
     "execution_count": 15,
     "metadata": {},
     "output_type": "execute_result"
    }
   ],
   "source": [
    "# all colums match the same order\n",
    "sum(all_year_18.columns != all_year_19.columns)"
   ]
  },
  {
   "cell_type": "code",
   "execution_count": 16,
   "id": "51360b5c",
   "metadata": {},
   "outputs": [
    {
     "data": {
      "text/plain": [
       "True"
      ]
     },
     "execution_count": 16,
     "metadata": {},
     "output_type": "execute_result"
    }
   ],
   "source": [
    "# seeing matching id meeans we can check now for changed data with time\n",
    "list(all_year_18.sort_values(\"id\").id) == list(all_year_19.sort_values(\"id\").id) "
   ]
  },
  {
   "cell_type": "code",
   "execution_count": 17,
   "id": "a7cb7d08",
   "metadata": {},
   "outputs": [],
   "source": [
    "all_year_18_sorted = all_year_18.sort_values(by=\"id\").reset_index(drop=True)\n",
    "all_year_19_sorted = all_year_19.sort_values(by=\"id\").reset_index(drop=True)\n"
   ]
  },
  {
   "cell_type": "code",
   "execution_count": 33,
   "id": "29ae6268",
   "metadata": {},
   "outputs": [
    {
     "data": {
      "text/plain": [
       "434407"
      ]
     },
     "execution_count": 33,
     "metadata": {},
     "output_type": "execute_result"
    }
   ],
   "source": [
    "np.sum(all_year_18_sorted != all_year_19_sorted)['member_id']"
   ]
  },
  {
   "cell_type": "code",
   "execution_count": 34,
   "id": "da6f2580",
   "metadata": {},
   "outputs": [
    {
     "data": {
      "text/plain": [
       "434407"
      ]
     },
     "execution_count": 34,
     "metadata": {},
     "output_type": "execute_result"
    }
   ],
   "source": [
    "np.sum(all_year_18_sorted.isna())['member_id']"
   ]
  },
  {
   "cell_type": "code",
   "execution_count": 39,
   "id": "cd354b14",
   "metadata": {},
   "outputs": [
    {
     "data": {
      "text/plain": [
       "False"
      ]
     },
     "execution_count": 39,
     "metadata": {},
     "output_type": "execute_result"
    }
   ],
   "source": [
    "np.sum(all_year_18_sorted != all_year_19_sorted)['member_id']>np.sum(all_year_18_sorted.isna())['member_id']"
   ]
  },
  {
   "cell_type": "code",
   "execution_count": null,
   "id": "8b9cf27f",
   "metadata": {},
   "outputs": [],
   "source": [
    "np.sum(all_year_18_sorted != all_year_19_sorted)['member_id']>np.sum(all_year_18_sorted.isna())['member_id']\n",
    "np.sum(all_year_18_sorted != all_year_19_sorted)['mths_since_last_delinq']>np.sum(all_year_18_sorted.isna())['mths_since_last_delinq']"
   ]
  },
  {
   "cell_type": "code",
   "execution_count": null,
   "id": "150aee6c",
   "metadata": {},
   "outputs": [],
   "source": []
  },
  {
   "cell_type": "code",
   "execution_count": 23,
   "id": "a98c6ae6",
   "metadata": {},
   "outputs": [
    {
     "data": {
      "text/plain": [
       "id                            0\n",
       "member_id                434407\n",
       "loan_amnt                     0\n",
       "funded_amnt                   0\n",
       "funded_amnt_inv               0\n",
       "                          ...  \n",
       "settlement_amount        429936\n",
       "settlement_percentage    429891\n",
       "settlement_term          429864\n",
       "payment_lifetime         248713\n",
       "Qrtr                          0\n",
       "Length: 152, dtype: int64"
      ]
     },
     "execution_count": 23,
     "metadata": {},
     "output_type": "execute_result"
    }
   ],
   "source": [
    "np.sum(all_year_18_sorted != all_year_19_sorted,axis= 0)"
   ]
  },
  {
   "cell_type": "code",
   "execution_count": 23,
   "id": "3f006a80",
   "metadata": {},
   "outputs": [
    {
     "data": {
      "text/plain": [
       "Index(['id', 'loan_amnt', 'funded_amnt', 'funded_amnt_inv', 'term', 'int_rate',\n",
       "       'installment', 'grade', 'sub_grade', 'home_ownership', 'annual_inc',\n",
       "       'verification_status', 'pymnt_plan', 'url', 'purpose', 'zip_code',\n",
       "       'addr_state', 'dti', 'delinq_2yrs', 'fico_range_low', 'fico_range_high',\n",
       "       'inq_last_6mths', 'open_acc', 'pub_rec', 'revol_bal', 'revol_util',\n",
       "       'total_acc', 'initial_list_status', 'total_rec_late_fee',\n",
       "       'collections_12_mths_ex_med', 'policy_code', 'application_type',\n",
       "       'acc_now_delinq', 'tot_coll_amt', 'tot_cur_bal', 'open_acc_6m',\n",
       "       'open_act_il', 'open_il_12m', 'open_il_24m', 'mths_since_rcnt_il',\n",
       "       'total_bal_il', 'open_rv_12m', 'open_rv_24m', 'max_bal_bc', 'all_util',\n",
       "       'total_rev_hi_lim', 'inq_fi', 'total_cu_tl', 'inq_last_12m',\n",
       "       'acc_open_past_24mths', 'avg_cur_bal', 'bc_open_to_buy', 'bc_util',\n",
       "       'chargeoff_within_12_mths', 'delinq_amnt', 'mo_sin_old_il_acct',\n",
       "       'mo_sin_old_rev_tl_op', 'mo_sin_rcnt_rev_tl_op', 'mo_sin_rcnt_tl',\n",
       "       'mort_acc', 'mths_since_recent_bc', 'num_accts_ever_120_pd',\n",
       "       'num_actv_bc_tl', 'num_actv_rev_tl', 'num_bc_sats', 'num_bc_tl',\n",
       "       'num_il_tl', 'num_op_rev_tl', 'num_rev_accts', 'num_rev_tl_bal_gt_0',\n",
       "       'num_sats', 'num_tl_120dpd_2m', 'num_tl_30dpd', 'num_tl_90g_dpd_24m',\n",
       "       'num_tl_op_past_12m', 'pct_tl_nvr_dlq', 'percent_bc_gt_75',\n",
       "       'pub_rec_bankruptcies', 'tax_liens', 'tot_hi_cred_lim',\n",
       "       'total_bal_ex_mort', 'total_bc_limit', 'total_il_high_credit_limit',\n",
       "       'hardship_flag', 'debt_settlement_flag', 'Qrtr'],\n",
       "      dtype='object')"
      ]
     },
     "execution_count": 23,
     "metadata": {},
     "output_type": "execute_result"
    }
   ],
   "source": [
    "unchanged_coloms"
   ]
  },
  {
   "cell_type": "code",
   "execution_count": 31,
   "id": "24f19faa",
   "metadata": {
    "scrolled": true
   },
   "outputs": [
    {
     "name": "stdout",
     "output_type": "stream",
     "text": [
      "<class 'pandas.core.frame.DataFrame'>\n",
      "Int64Index: 434407 entries, 0 to 103545\n",
      "Data columns (total 86 columns):\n",
      " #   Column                      Non-Null Count   Dtype  \n",
      "---  ------                      --------------   -----  \n",
      " 0   id                          434407 non-null  int64  \n",
      " 1   loan_amnt                   434407 non-null  int64  \n",
      " 2   funded_amnt                 434407 non-null  int64  \n",
      " 3   funded_amnt_inv             434407 non-null  float64\n",
      " 4   term                        434407 non-null  object \n",
      " 5   int_rate                    434407 non-null  object \n",
      " 6   installment                 434407 non-null  float64\n",
      " 7   grade                       434407 non-null  object \n",
      " 8   sub_grade                   434407 non-null  object \n",
      " 9   home_ownership              434407 non-null  object \n",
      " 10  annual_inc                  434407 non-null  float64\n",
      " 11  verification_status         434407 non-null  object \n",
      " 12  pymnt_plan                  434407 non-null  object \n",
      " 13  url                         434407 non-null  object \n",
      " 14  purpose                     434407 non-null  object \n",
      " 15  zip_code                    434407 non-null  object \n",
      " 16  addr_state                  434407 non-null  object \n",
      " 17  dti                         434344 non-null  float64\n",
      " 18  delinq_2yrs                 434407 non-null  int64  \n",
      " 19  fico_range_low              434407 non-null  int64  \n",
      " 20  fico_range_high             434407 non-null  int64  \n",
      " 21  inq_last_6mths              434406 non-null  float64\n",
      " 22  open_acc                    434407 non-null  int64  \n",
      " 23  pub_rec                     434407 non-null  int64  \n",
      " 24  revol_bal                   434407 non-null  int64  \n",
      " 25  revol_util                  434143 non-null  object \n",
      " 26  total_acc                   434407 non-null  int64  \n",
      " 27  initial_list_status         434407 non-null  object \n",
      " 28  total_rec_late_fee          434407 non-null  float64\n",
      " 29  collections_12_mths_ex_med  434407 non-null  int64  \n",
      " 30  policy_code                 434407 non-null  int64  \n",
      " 31  application_type            434407 non-null  object \n",
      " 32  acc_now_delinq              434407 non-null  int64  \n",
      " 33  tot_coll_amt                434407 non-null  int64  \n",
      " 34  tot_cur_bal                 434407 non-null  int64  \n",
      " 35  open_acc_6m                 434345 non-null  float64\n",
      " 36  open_act_il                 434346 non-null  float64\n",
      " 37  open_il_12m                 434346 non-null  float64\n",
      " 38  open_il_24m                 434346 non-null  float64\n",
      " 39  mths_since_rcnt_il          422649 non-null  float64\n",
      " 40  total_bal_il                434346 non-null  float64\n",
      " 41  open_rv_12m                 434346 non-null  float64\n",
      " 42  open_rv_24m                 434346 non-null  float64\n",
      " 43  max_bal_bc                  434346 non-null  float64\n",
      " 44  all_util                    434323 non-null  float64\n",
      " 45  total_rev_hi_lim            434407 non-null  int64  \n",
      " 46  inq_fi                      434346 non-null  float64\n",
      " 47  total_cu_tl                 434345 non-null  float64\n",
      " 48  inq_last_12m                434345 non-null  float64\n",
      " 49  acc_open_past_24mths        434407 non-null  int64  \n",
      " 50  avg_cur_bal                 434407 non-null  int64  \n",
      " 51  bc_open_to_buy              429772 non-null  float64\n",
      " 52  bc_util                     429572 non-null  float64\n",
      " 53  chargeoff_within_12_mths    434407 non-null  int64  \n",
      " 54  delinq_amnt                 434407 non-null  int64  \n",
      " 55  mo_sin_old_il_acct          422704 non-null  float64\n",
      " 56  mo_sin_old_rev_tl_op        434407 non-null  int64  \n",
      " 57  mo_sin_rcnt_rev_tl_op       434407 non-null  int64  \n",
      " 58  mo_sin_rcnt_tl              434407 non-null  int64  \n",
      " 59  mort_acc                    434407 non-null  int64  \n",
      " 60  mths_since_recent_bc        430033 non-null  float64\n",
      " 61  num_accts_ever_120_pd       434407 non-null  int64  \n",
      " 62  num_actv_bc_tl              434407 non-null  int64  \n",
      " 63  num_actv_rev_tl             434407 non-null  int64  \n",
      " 64  num_bc_sats                 434407 non-null  int64  \n",
      " 65  num_bc_tl                   434407 non-null  int64  \n",
      " 66  num_il_tl                   434407 non-null  int64  \n",
      " 67  num_op_rev_tl               434407 non-null  int64  \n",
      " 68  num_rev_accts               434407 non-null  int64  \n",
      " 69  num_rev_tl_bal_gt_0         434407 non-null  int64  \n",
      " 70  num_sats                    434407 non-null  int64  \n",
      " 71  num_tl_120dpd_2m            413030 non-null  float64\n",
      " 72  num_tl_30dpd                434407 non-null  int64  \n",
      " 73  num_tl_90g_dpd_24m          434407 non-null  int64  \n",
      " 74  num_tl_op_past_12m          434407 non-null  int64  \n",
      " 75  pct_tl_nvr_dlq              434407 non-null  float64\n",
      " 76  percent_bc_gt_75            429742 non-null  float64\n",
      " 77  pub_rec_bankruptcies        434407 non-null  int64  \n",
      " 78  tax_liens                   434407 non-null  int64  \n",
      " 79  tot_hi_cred_lim             434407 non-null  int64  \n",
      " 80  total_bal_ex_mort           434407 non-null  int64  \n",
      " 81  total_bc_limit              434407 non-null  int64  \n",
      " 82  total_il_high_credit_limit  434407 non-null  int64  \n",
      " 83  hardship_flag               434407 non-null  object \n",
      " 84  debt_settlement_flag        434407 non-null  object \n",
      " 85  Qrtr                        434407 non-null  int64  \n",
      "dtypes: float64(26), int64(44), object(16)\n",
      "memory usage: 288.3+ MB\n"
     ]
    }
   ],
   "source": [
    "all_year_18[unchanged_coloms].info()"
   ]
  },
  {
   "cell_type": "code",
   "execution_count": 9,
   "id": "dc7043fb",
   "metadata": {},
   "outputs": [
    {
     "name": "stdout",
     "output_type": "stream",
     "text": [
      "[56121, 70108, 288279, 363009, 364353] [56121, 70108, 288279, 363009, 364353]\n",
      "True\n",
      "[65104, 347674, 364688, 370844, 383830] [65104, 347674, 364688, 370844, 383830]\n",
      "True\n",
      "[55716, 352554, 390858, 392759, 401654] [55716, 352554, 390858, 392759, 401654]\n",
      "True\n",
      "[401243, 556854, 662307, 681725, 1023128] [401243, 556854, 662307, 681725, 1023128]\n",
      "True\n"
     ]
    }
   ],
   "source": [
    "# check for matching id to start \n",
    "print(sorted(Q1_19.id)[0:5],sorted(Q1_18.id)[0:5])\n",
    "print(sorted(Q1_19.id)==sorted(Q1_18.id))\n",
    "print(sorted(Q2_19.id)[0:5],sorted(Q2_18.id)[0:5])\n",
    "print(sorted(Q2_19.id)==sorted(Q2_18.id))\n",
    "print(sorted(Q3_19.id)[0:5],sorted(Q3_18.id)[0:5])\n",
    "print(sorted(Q3_19.id)==sorted(Q3_18.id))\n",
    "print(sorted(Q4_19.id)[0:5],sorted(Q4_18.id)[0:5])\n",
    "print(sorted(Q4_19.id)==sorted(Q4_18.id))"
   ]
  },
  {
   "cell_type": "code",
   "execution_count": 7,
   "id": "13a789f6",
   "metadata": {},
   "outputs": [
    {
     "data": {
      "text/plain": [
       "True"
      ]
     },
     "execution_count": 7,
     "metadata": {},
     "output_type": "execute_result"
    }
   ],
   "source": []
  },
  {
   "cell_type": "code",
   "execution_count": 10,
   "id": "8c0de653",
   "metadata": {
    "scrolled": true
   },
   "outputs": [
    {
     "data": {
      "text/plain": [
       "((133887, 152), (97854, 152), (99120, 152), (103546, 152))"
      ]
     },
     "execution_count": 10,
     "metadata": {},
     "output_type": "execute_result"
    }
   ],
   "source": [
    "Q1_18.shape,Q2_18.shape,Q3_18.shape,Q4_18.shape"
   ]
  },
  {
   "cell_type": "code",
   "execution_count": null,
   "id": "500c1540",
   "metadata": {},
   "outputs": [],
   "source": [
    "# dropping all colums that has more then 90% missing values.\n",
    "all_year_19 = all_year_19.drop(columns=all_year_19.columns[np.sum(all_year_19.isna(),axis= 0) >= len(all_year_19)*0.9])"
   ]
  },
  {
   "cell_type": "code",
   "execution_count": null,
   "id": "f916e846",
   "metadata": {},
   "outputs": [],
   "source": [
    "# dropping all colums that has more then 10% missing values.\n",
    "all_year_18 = all_year_18.drop(columns=all_year_18.columns[np.sum(all_year_18.isna(),axis= 0) >= len(all_year_18)*0.9])"
   ]
  }
 ],
 "metadata": {
  "kernelspec": {
   "display_name": "Python 3 (ipykernel)",
   "language": "python",
   "name": "python3"
  },
  "language_info": {
   "codemirror_mode": {
    "name": "ipython",
    "version": 3
   },
   "file_extension": ".py",
   "mimetype": "text/x-python",
   "name": "python",
   "nbconvert_exporter": "python",
   "pygments_lexer": "ipython3",
   "version": "3.9.13"
  }
 },
 "nbformat": 4,
 "nbformat_minor": 5
}
