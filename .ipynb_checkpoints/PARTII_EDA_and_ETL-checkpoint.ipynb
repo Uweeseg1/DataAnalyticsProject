{
 "cells": [
  {
   "cell_type": "markdown",
   "metadata": {
    "colab_type": "text",
    "id": "view-in-github"
   },
   "source": [
    "<a href=\"https://colab.research.google.com/github/Uweeseg1/DataAnalyticsProject/blob/master/PARTII_EDA_and_ETL.ipynb\" target=\"_parent\"><img src=\"https://colab.research.google.com/assets/colab-badge.svg\" alt=\"Open In Colab\"/></a>"
   ]
  },
  {
   "cell_type": "code",
   "execution_count": 1,
   "metadata": {
    "colab": {
     "base_uri": "https://localhost:8080/"
    },
    "id": "x_OgTDTOdh-N",
    "outputId": "6eff40ff-280e-4868-b95f-1984f1461ffe"
   },
   "outputs": [
    {
     "name": "stdout",
     "output_type": "stream",
     "text": [
      "Collecting numpy_financial\n",
      "  Downloading numpy_financial-1.0.0-py3-none-any.whl (14 kB)\n",
      "Requirement already satisfied: numpy>=1.15 in /Users/urisegman/opt/anaconda3/lib/python3.8/site-packages (from numpy_financial) (1.21.2)\n",
      "Installing collected packages: numpy_financial\n",
      "Successfully installed numpy_financial-1.0.0\n"
     ]
    }
   ],
   "source": [
    "! pip install numpy_financial"
   ]
  },
  {
   "cell_type": "code",
   "execution_count": 8,
   "metadata": {},
   "outputs": [
    {
     "name": "stdout",
     "output_type": "stream",
     "text": [
      "Requirement already satisfied: gspread in /Users/urisegman/opt/anaconda3/lib/python3.8/site-packages (5.8.0)\n",
      "Requirement already satisfied: google-auth>=1.12.0 in /Users/urisegman/opt/anaconda3/lib/python3.8/site-packages (from gspread) (2.17.3)\n",
      "Requirement already satisfied: google-auth-oauthlib>=0.4.1 in /Users/urisegman/opt/anaconda3/lib/python3.8/site-packages (from gspread) (1.0.0)\n",
      "Requirement already satisfied: cachetools<6.0,>=2.0.0 in /Users/urisegman/opt/anaconda3/lib/python3.8/site-packages (from google-auth>=1.12.0->gspread) (4.2.2)\n",
      "Requirement already satisfied: pyasn1-modules>=0.2.1 in /Users/urisegman/opt/anaconda3/lib/python3.8/site-packages (from google-auth>=1.12.0->gspread) (0.2.8)\n",
      "Requirement already satisfied: six>=1.9.0 in /Users/urisegman/opt/anaconda3/lib/python3.8/site-packages (from google-auth>=1.12.0->gspread) (1.15.0)\n",
      "Requirement already satisfied: rsa<5,>=3.1.4 in /Users/urisegman/opt/anaconda3/lib/python3.8/site-packages (from google-auth>=1.12.0->gspread) (4.7)\n",
      "Requirement already satisfied: requests-oauthlib>=0.7.0 in /Users/urisegman/opt/anaconda3/lib/python3.8/site-packages (from google-auth-oauthlib>=0.4.1->gspread) (1.3.1)\n",
      "Requirement already satisfied: pyasn1<0.5.0,>=0.4.6 in /Users/urisegman/opt/anaconda3/lib/python3.8/site-packages (from pyasn1-modules>=0.2.1->google-auth>=1.12.0->gspread) (0.4.8)\n",
      "Requirement already satisfied: oauthlib>=3.0.0 in /Users/urisegman/opt/anaconda3/lib/python3.8/site-packages (from requests-oauthlib>=0.7.0->google-auth-oauthlib>=0.4.1->gspread) (3.2.2)\n",
      "Requirement already satisfied: requests>=2.0.0 in /Users/urisegman/opt/anaconda3/lib/python3.8/site-packages (from requests-oauthlib>=0.7.0->google-auth-oauthlib>=0.4.1->gspread) (2.26.0)\n",
      "Requirement already satisfied: urllib3<1.27,>=1.21.1 in /Users/urisegman/opt/anaconda3/lib/python3.8/site-packages (from requests>=2.0.0->requests-oauthlib>=0.7.0->google-auth-oauthlib>=0.4.1->gspread) (1.26.7)\n",
      "Requirement already satisfied: certifi>=2017.4.17 in /Users/urisegman/opt/anaconda3/lib/python3.8/site-packages (from requests>=2.0.0->requests-oauthlib>=0.7.0->google-auth-oauthlib>=0.4.1->gspread) (2022.12.7)\n",
      "Requirement already satisfied: charset-normalizer~=2.0.0 in /Users/urisegman/opt/anaconda3/lib/python3.8/site-packages (from requests>=2.0.0->requests-oauthlib>=0.7.0->google-auth-oauthlib>=0.4.1->gspread) (2.0.6)\n",
      "Requirement already satisfied: idna<4,>=2.5 in /Users/urisegman/opt/anaconda3/lib/python3.8/site-packages (from requests>=2.0.0->requests-oauthlib>=0.7.0->google-auth-oauthlib>=0.4.1->gspread) (3.2)\n",
      "Requirement already satisfied: oauth2client in /Users/urisegman/opt/anaconda3/lib/python3.8/site-packages (4.1.3)\n",
      "Requirement already satisfied: httplib2>=0.9.1 in /Users/urisegman/opt/anaconda3/lib/python3.8/site-packages (from oauth2client) (0.22.0)\n",
      "Requirement already satisfied: pyasn1>=0.1.7 in /Users/urisegman/opt/anaconda3/lib/python3.8/site-packages (from oauth2client) (0.4.8)\n",
      "Requirement already satisfied: pyasn1-modules>=0.0.5 in /Users/urisegman/opt/anaconda3/lib/python3.8/site-packages (from oauth2client) (0.2.8)\n",
      "Requirement already satisfied: rsa>=3.1.4 in /Users/urisegman/opt/anaconda3/lib/python3.8/site-packages (from oauth2client) (4.7)\n",
      "Requirement already satisfied: six>=1.6.1 in /Users/urisegman/opt/anaconda3/lib/python3.8/site-packages (from oauth2client) (1.15.0)\n",
      "Requirement already satisfied: pyparsing!=3.0.0,!=3.0.1,!=3.0.2,!=3.0.3,<4,>=2.4.2 in /Users/urisegman/opt/anaconda3/lib/python3.8/site-packages (from httplib2>=0.9.1->oauth2client) (2.4.7)\n",
      "^C\n",
      "Requirement already satisfied: google in /Users/urisegman/opt/anaconda3/lib/python3.8/site-packages (3.0.0)\n",
      "Requirement already satisfied: beautifulsoup4 in /Users/urisegman/opt/anaconda3/lib/python3.8/site-packages (from google) (4.9.1)\n",
      "Requirement already satisfied: soupsieve>1.2 in /Users/urisegman/opt/anaconda3/lib/python3.8/site-packages (from beautifulsoup4->google) (2.2.1)\n"
     ]
    }
   ],
   "source": [
    "! pip install gspread\n",
    "! pip install oauth2client\n"
   ]
  },
  {
   "cell_type": "code",
   "execution_count": null,
   "metadata": {},
   "outputs": [],
   "source": []
  },
  {
   "cell_type": "code",
   "execution_count": 9,
   "metadata": {
    "id": "YdANPY6YdH5V"
   },
   "outputs": [
    {
     "ename": "ModuleNotFoundError",
     "evalue": "No module named 'google.colab'",
     "output_type": "error",
     "traceback": [
      "\u001b[0;31m---------------------------------------------------------------------------\u001b[0m",
      "\u001b[0;31mModuleNotFoundError\u001b[0m                       Traceback (most recent call last)",
      "\u001b[0;32m<ipython-input-9-6b2ab91933eb>\u001b[0m in \u001b[0;36m<module>\u001b[0;34m\u001b[0m\n\u001b[1;32m      4\u001b[0m \u001b[0;32mimport\u001b[0m \u001b[0mgspread\u001b[0m\u001b[0;34m\u001b[0m\u001b[0;34m\u001b[0m\u001b[0m\n\u001b[1;32m      5\u001b[0m \u001b[0;32mfrom\u001b[0m \u001b[0moauth2client\u001b[0m\u001b[0;34m.\u001b[0m\u001b[0mservice_account\u001b[0m \u001b[0;32mimport\u001b[0m \u001b[0mServiceAccountCredentials\u001b[0m\u001b[0;34m\u001b[0m\u001b[0;34m\u001b[0m\u001b[0m\n\u001b[0;32m----> 6\u001b[0;31m \u001b[0;32mfrom\u001b[0m \u001b[0mgoogle\u001b[0m\u001b[0;34m.\u001b[0m\u001b[0mcolab\u001b[0m \u001b[0;32mimport\u001b[0m \u001b[0mdrive\u001b[0m\u001b[0;34m\u001b[0m\u001b[0;34m\u001b[0m\u001b[0m\n\u001b[0m\u001b[1;32m      7\u001b[0m \u001b[0;32mimport\u001b[0m \u001b[0mnumpy_financial\u001b[0m \u001b[0;32mas\u001b[0m \u001b[0mnpf\u001b[0m\u001b[0;34m\u001b[0m\u001b[0;34m\u001b[0m\u001b[0m\n",
      "\u001b[0;31mModuleNotFoundError\u001b[0m: No module named 'google.colab'"
     ]
    }
   ],
   "source": [
    "import numpy as np\n",
    "import pandas as pd \n",
    "import os\n",
    "import gspread\n",
    "from oauth2client.service_account import ServiceAccountCredentials\n",
    "from google.colab import drive\n",
    "import numpy_financial as npf\n"
   ]
  },
  {
   "cell_type": "markdown",
   "metadata": {
    "id": "WtNBXEGidISn"
   },
   "source": [
    "## Loading and Reading the data"
   ]
  },
  {
   "cell_type": "code",
   "execution_count": null,
   "metadata": {
    "id": "1yafS4N4XlOk"
   },
   "outputs": [],
   "source": [
    "# import numpy_financial as npf"
   ]
  },
  {
   "cell_type": "code",
   "execution_count": null,
   "metadata": {
    "colab": {
     "base_uri": "https://localhost:8080/"
    },
    "id": "Fde-2FMJX-dY",
    "outputId": "a1787547-905e-4ee0-d0c4-51bb974ce289"
   },
   "outputs": [],
   "source": [
    "drive.mount('/content/drive')\n"
   ]
  },
  {
   "cell_type": "code",
   "execution_count": null,
   "metadata": {
    "id": "--3NzP2DYSY7"
   },
   "outputs": [],
   "source": [
    "\n",
    "import os\n",
    "os.chdir(\"/content/drive/My Drive/Colab Notebooks\")"
   ]
  },
  {
   "cell_type": "code",
   "execution_count": null,
   "metadata": {
    "colab": {
     "base_uri": "https://localhost:8080/"
    },
    "id": "2NjKqQRqYXPB",
    "outputId": "3106cfd1-bf3a-4179-9e88-a00f1d1f8cce"
   },
   "outputs": [
    {
     "name": "stdout",
     "output_type": "stream",
     "text": [
      "loan-data-apr-2018-snap   Q1_2018.csv  Q2_2019.csv  Q4_2018.csv\n",
      "loan-data-jul-2019-snap   Q1_2019.csv  Q3_2018.csv  Q4_2019.csv\n",
      "PARTII_EDA_and_ETL.ipynb  Q2_2018.csv  Q3_2019.csv\n"
     ]
    }
   ],
   "source": [
    "! ls"
   ]
  },
  {
   "cell_type": "code",
   "execution_count": null,
   "metadata": {
    "id": "hUttgLVDczH-"
   },
   "outputs": [],
   "source": [
    "# upload DATA\n",
    "\n",
    "Q1_19 = pd.read_csv(\"Q1_2019.csv\",low_memory=False)\n",
    "Q2_19 = pd.read_csv(\"Q2_2019.csv\",low_memory=False)\n",
    "Q3_19 = pd.read_csv(\"Q3_2019.csv\",low_memory=False)\n",
    "Q4_19 = pd.read_csv(\"Q4_2019.csv\",low_memory=False)\n",
    "\n",
    "# upload DATA\n",
    "\n",
    "Q1_18 = pd.read_csv(\"Q1_2018.csv\",low_memory=False)\n",
    "Q2_18 = pd.read_csv(\"Q2_2018.csv\",low_memory=False)\n",
    "Q3_18 = pd.read_csv(\"Q3_2018.csv\",low_memory=False)\n",
    "Q4_18 = pd.read_csv(\"Q4_2018.csv\",low_memory=False)"
   ]
  },
  {
   "cell_type": "code",
   "execution_count": null,
   "metadata": {
    "colab": {
     "base_uri": "https://localhost:8080/"
    },
    "id": "TJiVOGaceAOv",
    "outputId": "d3b2fded-038e-44fc-b2a3-f763087cf3fb"
   },
   "outputs": [
    {
     "name": "stdout",
     "output_type": "stream",
     "text": [
      "(133887, 151) (133887, 152)\n",
      "(97854, 151) (97854, 152)\n",
      "(99120, 151) (99120, 152)\n",
      "(103546, 151) (103546, 152)\n"
     ]
    }
   ],
   "source": [
    "print(Q1_19.shape,Q1_18.shape)\n",
    "print(Q2_19.shape,Q2_18.shape)\n",
    "print(Q3_19.shape,Q3_18.shape)\n",
    "print(Q4_19.shape,Q4_18.shape)"
   ]
  },
  {
   "cell_type": "markdown",
   "metadata": {
    "id": "mIvnMouyeQMa"
   },
   "source": [
    "# Concatenating dataframes into annual categories"
   ]
  },
  {
   "cell_type": "code",
   "execution_count": null,
   "metadata": {
    "id": "uK9oGxUdd_X-"
   },
   "outputs": [],
   "source": [
    "# making 2 big Date Frames\n",
    "all_year_19 = pd.concat([Q1_19,Q2_19,Q3_19,Q4_19])\n",
    "all_year_18 = pd.concat([Q1_18,Q2_18,Q3_18,Q4_18])"
   ]
  },
  {
   "cell_type": "code",
   "execution_count": null,
   "metadata": {
    "colab": {
     "base_uri": "https://localhost:8080/"
    },
    "id": "lVN8DDXqeV6U",
    "outputId": "5af74bb3-cfd9-47ec-c768-fc8c12e2f62b"
   },
   "outputs": [
    {
     "data": {
      "text/plain": [
       "count    434407.000000\n",
       "mean        658.441839\n",
       "std        1529.652635\n",
       "min      -42705.000000\n",
       "25%         425.000000\n",
       "50%         762.000000\n",
       "75%        1005.000000\n",
       "max        1247.000000\n",
       "Name: payment_lifetime, dtype: float64"
      ]
     },
     "execution_count": 29,
     "metadata": {},
     "output_type": "execute_result"
    }
   ],
   "source": [
    "all_year_19.payment_lifetime.describe()\n"
   ]
  },
  {
   "cell_type": "code",
   "execution_count": null,
   "metadata": {
    "id": "VGM-85eCjNkK"
   },
   "outputs": [],
   "source": []
  },
  {
   "cell_type": "markdown",
   "metadata": {
    "id": "M31f1WURjRtt"
   },
   "source": [
    "## Bellow we will begin b y filtering out columns with 90% or nore N/A values\n"
   ]
  },
  {
   "cell_type": "code",
   "execution_count": null,
   "metadata": {
    "id": "FrP2nUOJgwby"
   },
   "outputs": [],
   "source": [
    "na_percentages = all_year_19.isna().mean()"
   ]
  },
  {
   "cell_type": "code",
   "execution_count": null,
   "metadata": {
    "colab": {
     "base_uri": "https://localhost:8080/"
    },
    "id": "Ewse9qXjiqha",
    "outputId": "cbef26ea-5998-412b-f7f7-c42f517245b2"
   },
   "outputs": [
    {
     "data": {
      "text/plain": [
       "id                       0.000000\n",
       "member_id                1.000000\n",
       "loan_amnt                0.000000\n",
       "funded_amnt              0.000000\n",
       "funded_amnt_inv          0.000000\n",
       "                           ...   \n",
       "settlement_percentage    0.971055\n",
       "settlement_term          0.971055\n",
       "payment_lifetime         0.000000\n",
       "months                   0.000000\n",
       "monthly_paymnent         0.000000\n",
       "Length: 153, dtype: float64"
      ]
     },
     "execution_count": 74,
     "metadata": {},
     "output_type": "execute_result"
    }
   ],
   "source": [
    "na_percentages"
   ]
  },
  {
   "cell_type": "code",
   "execution_count": null,
   "metadata": {
    "id": "5OPctZFShcAM"
   },
   "outputs": [],
   "source": [
    "cols_to_drop = na_percentages[na_percentages >= 0.9].index\n",
    "all_year_19_wihtout_90nas = all_year_19.drop(cols_to_drop, axis=1)"
   ]
  },
  {
   "cell_type": "code",
   "execution_count": null,
   "metadata": {
    "id": "d3FQ8uIohgaK"
   },
   "outputs": [],
   "source": [
    "cols_to_check = na_percentages[(na_percentages >= 0.05) & (na_percentages <= 0.9) ].index\n"
   ]
  },
  {
   "cell_type": "code",
   "execution_count": null,
   "metadata": {
    "colab": {
     "base_uri": "https://localhost:8080/"
    },
    "id": "lnWFWBAYiicm",
    "outputId": "de6e410a-996e-4786-b88b-44bccbb6bf8a"
   },
   "outputs": [
    {
     "data": {
      "text/plain": [
       "11"
      ]
     },
     "execution_count": 79,
     "metadata": {},
     "output_type": "execute_result"
    }
   ],
   "source": [
    "len(cols_to_check)"
   ]
  },
  {
   "cell_type": "code",
   "execution_count": null,
   "metadata": {
    "id": "fJ20m0SoiFKK"
   },
   "outputs": [],
   "source": [
    "all_year_19_columns_to_check = all_year_19_wihtout_90nas[cols_to_check]# axis=1]"
   ]
  },
  {
   "cell_type": "code",
   "execution_count": null,
   "metadata": {
    "colab": {
     "base_uri": "https://localhost:8080/"
    },
    "id": "fcjVYszGjF8k",
    "outputId": "9db5ee92-3e22-4eae-f676-f7fe629d0c1c"
   },
   "outputs": [
    {
     "data": {
      "text/plain": [
       "Index(['emp_title', 'emp_length', 'title', 'mths_since_last_delinq',\n",
       "       'mths_since_last_record', 'next_pymnt_d', 'mths_since_last_major_derog',\n",
       "       'il_util', 'mths_since_recent_bc_dlq', 'mths_since_recent_inq',\n",
       "       'mths_since_recent_revol_delinq'],\n",
       "      dtype='object')"
      ]
     },
     "execution_count": 86,
     "metadata": {},
     "output_type": "execute_result"
    }
   ],
   "source": [
    "all_year_19_columns_to_check.columns"
   ]
  },
  {
   "cell_type": "code",
   "execution_count": null,
   "metadata": {
    "colab": {
     "base_uri": "https://localhost:8080/"
    },
    "id": "dH6yRQiSiUWz",
    "outputId": "cf5beaf5-b039-4196-d46f-39cd9969a420"
   },
   "outputs": [
    {
     "data": {
      "text/plain": [
       "147"
      ]
     },
     "execution_count": 72,
     "metadata": {},
     "output_type": "execute_result"
    }
   ],
   "source": [
    "len(all_year_19_columns_to_check.columns)"
   ]
  },
  {
   "cell_type": "code",
   "execution_count": null,
   "metadata": {
    "id": "AmaVNdDHfigy"
   },
   "outputs": [],
   "source": [
    "\n",
    "\n",
    "# for low values appiring by missing date (start or finish) \n",
    "# i assing max time (36 months ) for all negative values:\n",
    "## it will only hurt (lower) relised return as \n",
    "## we asuming those payments are recived as late as possible\n",
    "### values with 0 get 1 (its best to check in 18 tabbles)\n",
    "months_vector = list(round(all_year_19.payment_lifetime/30.4))\n",
    "for i in range(len(months_vector)) : \n",
    "    if months_vector[i] < 0 :\n",
    "        months_vector[i] = 36\n",
    "    # ! problem with 0 values ! change this ! \n",
    "    elif months_vector[i] == 0 : \n",
    "        months_vector[i] = 1\n",
    "    # ! problem with 0 values ! change this ! "
   ]
  },
  {
   "cell_type": "code",
   "execution_count": null,
   "metadata": {
    "colab": {
     "base_uri": "https://localhost:8080/"
    },
    "id": "sqOfSjtXexW6",
    "outputId": "69612e00-2779-479a-839f-4027f03a2dfd"
   },
   "outputs": [
    {
     "data": {
      "text/plain": [
       "count    434407.000000\n",
       "mean         23.356633\n",
       "std          11.247674\n",
       "min           1.000000\n",
       "25%          14.000000\n",
       "50%          26.000000\n",
       "75%          33.000000\n",
       "max          41.000000\n",
       "Name: months, dtype: float64"
      ]
     },
     "execution_count": 33,
     "metadata": {},
     "output_type": "execute_result"
    }
   ],
   "source": [
    "# now lets take another look\n",
    "sum(np.array(months_vector) <= 0 )\n",
    "all_year_19[\"months\"] = months_vector\n",
    "all_year_19.months.describe()"
   ]
  },
  {
   "cell_type": "code",
   "execution_count": null,
   "metadata": {
    "id": "cypOIYuNfm77"
   },
   "outputs": [],
   "source": [
    "# lets calculate the monthly payments \n",
    "all_year_19[\"monthly_paymnent\"] = all_year_19[\"total_pymnt\"] / all_year_19[\"months\"]"
   ]
  },
  {
   "cell_type": "code",
   "execution_count": null,
   "metadata": {
    "colab": {
     "base_uri": "https://localhost:8080/"
    },
    "id": "Uf7JN8ShfouW",
    "outputId": "186c9a51-275a-40b1-9652-5b36166f844d"
   },
   "outputs": [
    {
     "data": {
      "text/plain": [
       "array(['Fully Paid', 'Current', 'Charged Off', 'Late (31-120 days)',\n",
       "       'Late (16-30 days)', 'In Grace Period', 'Default'], dtype=object)"
      ]
     },
     "execution_count": 35,
     "metadata": {},
     "output_type": "execute_result"
    }
   ],
   "source": [
    "all_year_19.loan_status.unique()"
   ]
  },
  {
   "cell_type": "code",
   "execution_count": null,
   "metadata": {
    "id": "6Nk9vFotfqtL"
   },
   "outputs": [],
   "source": [
    "# now we can make shpithzer Monthly payments \n",
    "shpizer_payments = []\n",
    "\n",
    "for _, row in all_year_19.iterrows():\n",
    "    pymnts = [row['funded_amnt']*-1]  \n",
    "    pymnts += [row['monthly_paymnent']] * int(row['months'])  \n",
    "    shpizer_payments.append(pymnts) "
   ]
  },
  {
   "cell_type": "code",
   "execution_count": null,
   "metadata": {
    "colab": {
     "background_save": true
    },
    "id": "B3ffF9fSftTG"
   },
   "outputs": [],
   "source": [
    "# Monthly rate !\n",
    "realised_rate = []\n",
    "for i in shpizer_payments : \n",
    "    realised_rate.append(npf.irr(i))\n",
    "# let's turn it to yearly\n",
    "yearly_realised_rates = ((np.array(realised_rate) + 1)**12) -1 "
   ]
  }
 ],
 "metadata": {
  "colab": {
   "include_colab_link": true,
   "provenance": []
  },
  "kernelspec": {
   "display_name": "Python 3",
   "language": "python",
   "name": "python3"
  },
  "language_info": {
   "codemirror_mode": {
    "name": "ipython",
    "version": 3
   },
   "file_extension": ".py",
   "mimetype": "text/x-python",
   "name": "python",
   "nbconvert_exporter": "python",
   "pygments_lexer": "ipython3",
   "version": "3.8.5"
  }
 },
 "nbformat": 4,
 "nbformat_minor": 1
}
